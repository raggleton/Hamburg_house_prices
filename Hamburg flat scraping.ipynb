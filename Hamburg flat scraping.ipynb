{
 "cells": [
  {
   "cell_type": "code",
   "execution_count": 725,
   "metadata": {},
   "outputs": [],
   "source": [
    "from bs4 import BeautifulSoup\n",
    "import requests\n",
    "import re\n",
    "\n",
    "import pandas as pd\n",
    "import numpy as np\n",
    "\n",
    "import matplotlib.pyplot as plt\n",
    "import matplotlib as mpl\n",
    "import matplotlib.colors as colors\n",
    "\n",
    "%matplotlib inline\n",
    "%config InlineBackend.figure_format = 'retina'\n",
    "\n",
    "import seaborn as sns\n",
    "sns.reset_orig()\n",
    "# from collections import defaultdict"
   ]
  },
  {
   "cell_type": "code",
   "execution_count": 730,
   "metadata": {},
   "outputs": [],
   "source": [
    "mpl.rcParams['figure.figsize'] = (8, 6)\n",
    "mpl.rcParams['font.size'] = 12"
   ]
  },
  {
   "cell_type": "code",
   "execution_count": 405,
   "metadata": {
    "collapsed": true
   },
   "outputs": [],
   "source": [
    "ex_page = \"https://www.wg-gesucht.de/en/wg-zimmer-in-Hamburg-Eimsbuettel.4874296.html?mf=1\""
   ]
  },
  {
   "cell_type": "code",
   "execution_count": 406,
   "metadata": {
    "collapsed": true
   },
   "outputs": [],
   "source": [
    "ex_page = \"https://www.wg-gesucht.de/en/wg-zimmer-in-Hamburg-St-Pauli.5796749.html\""
   ]
  },
  {
   "cell_type": "code",
   "execution_count": 377,
   "metadata": {
    "collapsed": true
   },
   "outputs": [],
   "source": [
    "ex_page = \"https://www.wg-gesucht.de/en/wg-zimmer-in-Hamburg-Eimsbuettel.6065185.html?mf=1\""
   ]
  },
  {
   "cell_type": "code",
   "execution_count": 407,
   "metadata": {
    "collapsed": true
   },
   "outputs": [],
   "source": [
    "r = requests.get(ex_page)"
   ]
  },
  {
   "cell_type": "code",
   "execution_count": 408,
   "metadata": {
    "collapsed": true
   },
   "outputs": [],
   "source": [
    "soup = BeautifulSoup(r.text, \"lxml\")"
   ]
  },
  {
   "cell_type": "code",
   "execution_count": 409,
   "metadata": {
    "scrolled": false
   },
   "outputs": [],
   "source": [
    "panel_bodies = soup.find_all(\"div\", \"panel-body\")"
   ]
  },
  {
   "cell_type": "code",
   "execution_count": 410,
   "metadata": {
    "collapsed": true
   },
   "outputs": [],
   "source": [
    "panel_info = panel_bodies[0]"
   ]
  },
  {
   "cell_type": "code",
   "execution_count": 626,
   "metadata": {},
   "outputs": [],
   "source": [
    "raw_prices = panel_info.find('div', 'col-xs-12 col-sm-5')\n",
    "price_list = [x.text.strip().strip(\":€\") for x in raw_prices.find_all('td') if not x.text.upper().strip().startswith('SCHUFA')]"
   ]
  },
  {
   "cell_type": "code",
   "execution_count": 627,
   "metadata": {},
   "outputs": [
    {
     "data": {
      "text/plain": [
       "['Base rent',\n",
       " '350',\n",
       " 'Utilities',\n",
       " '0',\n",
       " 'Miscellaneous costs',\n",
       " '0',\n",
       " 'Deposit',\n",
       " '0',\n",
       " 'Existing equipment fee',\n",
       " '0']"
      ]
     },
     "execution_count": 627,
     "metadata": {},
     "output_type": "execute_result"
    }
   ],
   "source": [
    "price_list"
   ]
  },
  {
   "cell_type": "code",
   "execution_count": 628,
   "metadata": {},
   "outputs": [],
   "source": [
    "price_dict = {}\n",
    "for name, price in zip(price_list[:-1:2], price_list[1::2]):\n",
    "    price_dict[name] = price"
   ]
  },
  {
   "cell_type": "code",
   "execution_count": 692,
   "metadata": {},
   "outputs": [],
   "source": [
    "def get_price_dict(panel):\n",
    "#     raw_prices = panel.find('div', 'col-xs-12 col-sm-5')\n",
    "#     price_list = [x.text.replace(' ', '').strip() for x in raw_prices.find_all('td')]\n",
    "#     _, base_rent, _, utilities_rent, _, misc_rent, _, deposit, *leftovers = price_list\n",
    "#     existing_equip_rent = '0'\n",
    "#     if len(leftovers) == 3:\n",
    "#         existing_equip_rent = leftovers[1]\n",
    "#     price_keys = ['base_rent', 'utilities_rent', 'misc_rent', 'deposit', 'existing_equip_rent']\n",
    "#     price_vals = [base_rent, utilities_rent, misc_rent, deposit, existing_equip_rent]\n",
    "#     price_dict = dict(zip(price_keys, [x.strip('€') for x in price_vals]))\n",
    "    raw_prices = panel.find('div', 'col-xs-12 col-sm-5')\n",
    "    price_list = [x.text.lower().strip().strip(\":€\").replace(\" \", \"_\")\n",
    "                  for x in raw_prices.find_all('td') \n",
    "                  if not x.text.upper().strip().startswith('SCHUFA')]\n",
    "    price_dict = {}\n",
    "    for name, price in zip(price_list[:-1:2], price_list[1::2]):\n",
    "        price_dict[name] = price\n",
    "    return price_dict"
   ]
  },
  {
   "cell_type": "code",
   "execution_count": 693,
   "metadata": {},
   "outputs": [
    {
     "data": {
      "text/plain": [
       "{'base_rent': '350',\n",
       " 'deposit': '0',\n",
       " 'existing_equipment_fee': '0',\n",
       " 'miscellaneous_costs': '0',\n",
       " 'utilities': '0'}"
      ]
     },
     "execution_count": 693,
     "metadata": {},
     "output_type": "execute_result"
    }
   ],
   "source": [
    "get_price_dict(panel_info)"
   ]
  },
  {
   "cell_type": "code",
   "execution_count": 694,
   "metadata": {},
   "outputs": [],
   "source": [
    "def get_address_dict(panel):\n",
    "    raw_address = panel.find('div', 'col-xs-12 col-sm-4').find('a').text\n",
    "    address_parts = [x.strip() for x in  raw_address.split('\\n') if x.strip() != '']\n",
    "    house_line =  re.sub(r'  +', ' ', address_parts[0])\n",
    "    house_parts = house_line.split()\n",
    "    house_number = -1\n",
    "    for hp in house_parts:\n",
    "        if hp.isdigit():\n",
    "            house_number = hp\n",
    "            house_line = house_line.replace(house_number, \"\").strip()\n",
    "            break\n",
    "    street = house_line\n",
    "\n",
    "    postcode_line = re.sub(r'  +', ' ', address_parts[1])\n",
    "    postcode_line = re.sub(r'Germany', '', postcode_line, flags=re.I | re.UNICODE)\n",
    "    postcode_line = re.sub(r'Hamburg', '', postcode_line, flags=re.I | re.UNICODE)\n",
    "    postcode_line = re.sub(r'[\\n ]+', ' ', postcode_line)\n",
    "    postcode_pattern = re.compile(r'(?P<postcode>2[\\d]+) (?P<region>.*)', flags=re.I | re.UNICODE)\n",
    "    postcode_match = postcode_pattern.search(postcode_line)\n",
    "    postcode = postcode_match['postcode']\n",
    "    region = postcode_match['region']    \n",
    "    return {'street': street, 'house_number': int(house_number), 'region': postcode_match['region'], 'postcode': int(postcode_match['postcode'])}"
   ]
  },
  {
   "cell_type": "code",
   "execution_count": 695,
   "metadata": {},
   "outputs": [
    {
     "data": {
      "text/plain": [
       "{'house_number': 70,\n",
       " 'postcode': 20357,\n",
       " 'region': 'St Pauli',\n",
       " 'street': 'Sternstrasse'}"
      ]
     },
     "execution_count": 695,
     "metadata": {},
     "output_type": "execute_result"
    }
   ],
   "source": [
    "get_address_dict(panel_info)"
   ]
  },
  {
   "cell_type": "code",
   "execution_count": 696,
   "metadata": {
    "collapsed": true
   },
   "outputs": [],
   "source": [
    "def get_availability_dict(panel):\n",
    "    availability = panel.find('div', 'col-xs-12 col-sm-3')\n",
    "    availability_values = [x.text.strip() for x in availability.find_all('b')]\n",
    "    return dict(zip(['start_date', 'ad_placed'], availability_values))"
   ]
  },
  {
   "cell_type": "code",
   "execution_count": 697,
   "metadata": {},
   "outputs": [
    {
     "data": {
      "text/plain": [
       "{'ad_placed': 'Online: 14 hours', 'start_date': '01.05.2017'}"
      ]
     },
     "execution_count": 697,
     "metadata": {},
     "output_type": "execute_result"
    }
   ],
   "source": [
    "get_availability_dict(panel_info)"
   ]
  },
  {
   "cell_type": "code",
   "execution_count": 698,
   "metadata": {
    "collapsed": true
   },
   "outputs": [],
   "source": [
    "panel_details = panel_bodies[1]"
   ]
  },
  {
   "cell_type": "code",
   "execution_count": 699,
   "metadata": {},
   "outputs": [],
   "source": [
    "def get_details_dict(panel):\n",
    "    raw_details = panel.find('div', 'col-sm-6')\n",
    "    space_pattern = re.compile(r'[\\n ]+')\n",
    "    details_parts = [space_pattern.sub(' ', x.text.strip()) for x in raw_details.find_all('li')]\n",
    "\n",
    "    room_area = 0\n",
    "    area_pattern = re.compile(r'[0-9]+')\n",
    "    area_match = area_pattern.match(details_parts[0].split()[0])\n",
    "    if area_match:\n",
    "        room_area = float(area_match[0])\n",
    "\n",
    "    total_area = 0\n",
    "    size_pattern = re.compile(r'Total size: ([0-9]+)', flags=re.I)\n",
    "    size_match = size_pattern.search(details_parts[1])\n",
    "    if size_match:\n",
    "        total_area = float(size_match[1])\n",
    "\n",
    "    total_num_persons = 0\n",
    "    np_pattern = re.compile(r'([0-9]+) person')\n",
    "    num_persons_match = np_pattern.search(details_parts[2])\n",
    "    if num_persons_match:\n",
    "        total_num_persons = int(num_persons_match[1])\n",
    "\n",
    "    num_females, num_males = 0, 0\n",
    "    male_female_pattern = re.compile(r'([0-9]+) female[s]? and ([0-9]+) male[s]?',  flags=re.I)\n",
    "    genders_match = male_female_pattern.search(details_parts[2])\n",
    "    if genders_match:\n",
    "        num_females, num_males = int(genders_match[1]), int(genders_match[2])\n",
    "\n",
    "    num_females, num_males\n",
    "    \n",
    "    return {'room_area': room_area, 'total_area': total_area, \n",
    "            'num_males_current': num_males, 'num_females_current': num_females, \n",
    "            'total_occupancy': total_num_persons}"
   ]
  },
  {
   "cell_type": "code",
   "execution_count": 700,
   "metadata": {},
   "outputs": [
    {
     "data": {
      "text/plain": [
       "{'num_females_current': 1,\n",
       " 'num_males_current': 1,\n",
       " 'room_area': 18.0,\n",
       " 'total_area': 60.0,\n",
       " 'total_occupancy': 3}"
      ]
     },
     "execution_count": 700,
     "metadata": {},
     "output_type": "execute_result"
    }
   ],
   "source": [
    "get_details_dict(panel_details)"
   ]
  },
  {
   "cell_type": "code",
   "execution_count": 701,
   "metadata": {},
   "outputs": [],
   "source": [
    "panel_further = panel_bodies[2]"
   ]
  },
  {
   "cell_type": "code",
   "execution_count": 702,
   "metadata": {
    "collapsed": true
   },
   "outputs": [],
   "source": [
    "def check_ad_ok(soup):\n",
    "    return \"but this ad has been deactivated\" not in soup.text"
   ]
  },
  {
   "cell_type": "code",
   "execution_count": 703,
   "metadata": {
    "collapsed": true
   },
   "outputs": [],
   "source": [
    "def extract_ad_info_from_soup(ad_soup):\n",
    "    panels = ad_soup.find_all(\"div\", \"panel-body\")\n",
    "    info_panel = panels[0]\n",
    "\n",
    "    ad_dict = {'title': ad_soup.title.text}\n",
    "    ad_dict.update(get_price_dict(info_panel))\n",
    "    ad_dict.update(get_address_dict(info_panel))\n",
    "    \n",
    "    details_panel = panels[1]\n",
    "    ad_dict.update(get_details_dict(details_panel))\n",
    "    \n",
    "    return ad_dict"
   ]
  },
  {
   "cell_type": "code",
   "execution_count": 704,
   "metadata": {},
   "outputs": [
    {
     "data": {
      "text/plain": [
       "{'base_rent': '350',\n",
       " 'deposit': '0',\n",
       " 'existing_equipment_fee': '0',\n",
       " 'house_number': 70,\n",
       " 'miscellaneous_costs': '0',\n",
       " 'num_females_current': 1,\n",
       " 'num_males_current': 1,\n",
       " 'postcode': 20357,\n",
       " 'region': 'St Pauli',\n",
       " 'room_area': 18.0,\n",
       " 'street': 'Sternstrasse',\n",
       " 'title': 'Schanze!! 1 Zimmer in der Schanze abzugeben. Top Lage.!! - WGs in Hamburg-St Pauli',\n",
       " 'total_area': 60.0,\n",
       " 'total_occupancy': 3,\n",
       " 'utilities': '0'}"
      ]
     },
     "execution_count": 704,
     "metadata": {},
     "output_type": "execute_result"
    }
   ],
   "source": [
    "extract_ad_info_from_soup(soup)"
   ]
  },
  {
   "cell_type": "code",
   "execution_count": 705,
   "metadata": {
    "collapsed": true
   },
   "outputs": [],
   "source": [
    "def extract_ad_info(url):\n",
    "    r = requests.get(url)\n",
    "    soup = BeautifulSoup(r.text, 'lxml')\n",
    "    if not check_ad_ok(soup):\n",
    "        return None\n",
    "    else:\n",
    "        ad_dict = extract_ad_info_from_soup(soup)\n",
    "        ad_dict['url'] = url\n",
    "        return ad_dict"
   ]
  },
  {
   "cell_type": "code",
   "execution_count": 706,
   "metadata": {},
   "outputs": [
    {
     "data": {
      "text/plain": [
       "{'base_rent': 'n.a.',\n",
       " 'house_number': -1,\n",
       " 'miscellaneous_costs': 'n.a.',\n",
       " 'num_females_current': 0,\n",
       " 'num_males_current': 0,\n",
       " 'postcode': 20357,\n",
       " 'region': 'St Pauli',\n",
       " 'room_area': 0,\n",
       " 'street': 'Sternstrasse',\n",
       " 'title': 'Schanze!! 1 Zimmer in der Schanze abzugeben. Top Lage.!! - WGs in Hamburg-St Pauli',\n",
       " 'total_area': 60.0,\n",
       " 'total_occupancy': 3,\n",
       " 'url': 'https://www.wg-gesucht.de/en/wg-zimmer-in-Hamburg-St-Pauli.5796749.html',\n",
       " 'utilities': 'n.a.'}"
      ]
     },
     "execution_count": 706,
     "metadata": {},
     "output_type": "execute_result"
    }
   ],
   "source": [
    "extract_ad_info('https://www.wg-gesucht.de/en/wg-zimmer-in-Hamburg-St-Pauli.5796749.html')"
   ]
  },
  {
   "cell_type": "code",
   "execution_count": 707,
   "metadata": {
    "collapsed": true
   },
   "outputs": [],
   "source": [
    "import time\n",
    "import random"
   ]
  },
  {
   "cell_type": "code",
   "execution_count": 708,
   "metadata": {
    "collapsed": true
   },
   "outputs": [],
   "source": [
    "def scrape_urls(url_list):\n",
    "    print('Getting info on %d ads...' % len(url_list))\n",
    "    dict_list = []\n",
    "    for url in url_list:\n",
    "        print(url)\n",
    "        time.sleep(random.random()*5 + 1)\n",
    "        info = extract_ad_info(url)\n",
    "        if info:\n",
    "            dict_list.append(info)\n",
    "    return dict_list"
   ]
  },
  {
   "cell_type": "code",
   "execution_count": 709,
   "metadata": {
    "collapsed": true
   },
   "outputs": [],
   "source": [
    "urls = [\n",
    "    'http://www.wg-gesucht.de/en/wg-zimmer-in-Hamburg-Eimsbuettel.5618920.html?mf=1',\n",
    "    'https://www.wg-gesucht.de/en/wg-zimmer-in-Hamburg-Eimsbuettel.4874296.html?mf=1',\n",
    "    'https://www.wg-gesucht.de/en/wg-zimmer-in-Hamburg-Bahrenfeld.5313515.html?mf=1',\n",
    "    'https://www.wg-gesucht.de/en/wg-zimmer-in-Hamburg-Eppendorf.6066386.html?mf=1',\n",
    "    'https://www.wg-gesucht.de/en/wg-zimmer-in-Hamburg-Eimsbuettel.6065185.html?mf=1',\n",
    "    'https://www.wg-gesucht.de/en/wg-zimmer-in-Hamburg-Ottensen.5986295.html?mf=1'\n",
    "]\n",
    "\n",
    "urls = [\n",
    "    'http://www.wg-gesucht.de/en/wg-zimmer-in-Hamburg-Eimsbuettel.5618920.html?mf=1',\n",
    "    'https://www.wg-gesucht.de/en/wg-zimmer-in-Hamburg-Eimsbuettel.4874296.html?mf=1',\n",
    "    'https://www.wg-gesucht.de/en/wg-zimmer-in-Hamburg-Bahrenfeld.5313515.html?mf=1',\n",
    "    'https://www.wg-gesucht.de/en/wg-zimmer-in-Hamburg-Eppendorf.6066386.html?mf=1',\n",
    "    'https://www.wg-gesucht.de/en/wg-zimmer-in-Hamburg-Eimsbuettel.6065185.html?mf=1',\n",
    "    'https://www.wg-gesucht.de/en/wg-zimmer-in-Hamburg-Ottensen.5986295.html?mf=1',\n",
    "    'https://www.wg-gesucht.de/en/wg-zimmer-in-Hamburg-Eimsbuettel.6082464.html?mf=1',\n",
    "    'https://www.wg-gesucht.de/en/wg-zimmer-in-Hamburg-Altona-Nord.5672745.html?mf=1',\n",
    "    'https://www.wg-gesucht.de/en/wg-zimmer-in-Hamburg-Stellingen.6079042.html?mf=1',\n",
    "    'https://www.wg-gesucht.de/en/wg-zimmer-in-Hamburg-Eimsbuettel.6074471.html?mf=1',\n",
    "    'https://www.wg-gesucht.de/en/wg-zimmer-in-Hamburg-Harvestehude.5963393.html?mf=1',\n",
    "    'https://www.wg-gesucht.de/en/wg-zimmer-in-Hamburg-Altona-Nord.6064793.html?mf=1',\n",
    "    'https://www.wg-gesucht.de/en/wg-zimmer-in-Hamburg-Ottensen.4979594.html?mf=1',\n",
    "    'https://www.wg-gesucht.de/en/wg-zimmer-in-Hamburg-Ottensen.5248077.html?mf=1',\n",
    "#     'https://www.wg-gesucht.de/en/wg-zimmer-in-Hamburg-Bahrenfeld.6061487.html?mf=1',\n",
    "    'https://www.wg-gesucht.de/en/wg-zimmer-in-Hamburg-Eimsbuettel.6059676.html?mf=1',\n",
    "    'https://www.wg-gesucht.de/en/wg-zimmer-in-Hamburg-Altona-Altstadt.6048834.html?mf=1'\n",
    "]"
   ]
  },
  {
   "cell_type": "code",
   "execution_count": 710,
   "metadata": {},
   "outputs": [
    {
     "name": "stdout",
     "output_type": "stream",
     "text": [
      "Getting info on 16 ads...\n",
      "http://www.wg-gesucht.de/en/wg-zimmer-in-Hamburg-Eimsbuettel.5618920.html?mf=1\n",
      "https://www.wg-gesucht.de/en/wg-zimmer-in-Hamburg-Eimsbuettel.4874296.html?mf=1\n",
      "https://www.wg-gesucht.de/en/wg-zimmer-in-Hamburg-Bahrenfeld.5313515.html?mf=1\n",
      "https://www.wg-gesucht.de/en/wg-zimmer-in-Hamburg-Eppendorf.6066386.html?mf=1\n",
      "https://www.wg-gesucht.de/en/wg-zimmer-in-Hamburg-Eimsbuettel.6065185.html?mf=1\n",
      "https://www.wg-gesucht.de/en/wg-zimmer-in-Hamburg-Ottensen.5986295.html?mf=1\n",
      "https://www.wg-gesucht.de/en/wg-zimmer-in-Hamburg-Eimsbuettel.6082464.html?mf=1\n",
      "https://www.wg-gesucht.de/en/wg-zimmer-in-Hamburg-Altona-Nord.5672745.html?mf=1\n",
      "https://www.wg-gesucht.de/en/wg-zimmer-in-Hamburg-Stellingen.6079042.html?mf=1\n",
      "https://www.wg-gesucht.de/en/wg-zimmer-in-Hamburg-Eimsbuettel.6074471.html?mf=1\n",
      "https://www.wg-gesucht.de/en/wg-zimmer-in-Hamburg-Harvestehude.5963393.html?mf=1\n",
      "https://www.wg-gesucht.de/en/wg-zimmer-in-Hamburg-Altona-Nord.6064793.html?mf=1\n",
      "https://www.wg-gesucht.de/en/wg-zimmer-in-Hamburg-Ottensen.4979594.html?mf=1\n",
      "https://www.wg-gesucht.de/en/wg-zimmer-in-Hamburg-Ottensen.5248077.html?mf=1\n",
      "https://www.wg-gesucht.de/en/wg-zimmer-in-Hamburg-Eimsbuettel.6059676.html?mf=1\n",
      "https://www.wg-gesucht.de/en/wg-zimmer-in-Hamburg-Altona-Altstadt.6048834.html?mf=1\n"
     ]
    }
   ],
   "source": [
    "dicts = scrape_urls(urls)"
   ]
  },
  {
   "cell_type": "code",
   "execution_count": 325,
   "metadata": {
    "collapsed": true
   },
   "outputs": [
    {
     "data": {
      "text/plain": [
       "[{'base_rent': '450',\n",
       "  'deposit': '500',\n",
       "  'existing_equip_rent': '0',\n",
       "  'house_number': 21,\n",
       "  'misc_rent': 'n.a.',\n",
       "  'num_females_current': 0,\n",
       "  'num_males_current': 2,\n",
       "  'postcode': 20144,\n",
       "  'region': 'Eimsbüttel',\n",
       "  'room_area': 16.0,\n",
       "  'street': 'Kielortallee',\n",
       "  'title': '16 qm Zimmer in bester Lage  - Flatshare in Hamburg-Eimsbüttel',\n",
       "  'total_area': 78.0,\n",
       "  'total_occupancy': 3,\n",
       "  'url': 'http://www.wg-gesucht.de/en/wg-zimmer-in-Hamburg-Eimsbuettel.5618920.html?mf=1',\n",
       "  'utilities_rent': '50'},\n",
       " {'base_rent': '410',\n",
       "  'deposit': '1300',\n",
       "  'existing_equip_rent': '0',\n",
       "  'house_number': -1,\n",
       "  'misc_rent': '25',\n",
       "  'num_females_current': 0,\n",
       "  'num_males_current': 2,\n",
       "  'postcode': 20259,\n",
       "  'region': 'Eimsbüttel',\n",
       "  'room_area': 12.0,\n",
       "  'street': 'Osterstraße',\n",
       "  'title': '12qm Zimmer in 3er WG - Zimmer in Hamburg-Eimsbüttel',\n",
       "  'total_area': 0,\n",
       "  'total_occupancy': 3,\n",
       "  'url': 'https://www.wg-gesucht.de/en/wg-zimmer-in-Hamburg-Eimsbuettel.4874296.html?mf=1',\n",
       "  'utilities_rent': '80'},\n",
       " {'base_rent': '400',\n",
       "  'deposit': '700',\n",
       "  'existing_equip_rent': '0',\n",
       "  'house_number': -1,\n",
       "  'misc_rent': 'n.a.',\n",
       "  'num_females_current': 1,\n",
       "  'num_males_current': 0,\n",
       "  'postcode': 22761,\n",
       "  'region': 'Bahrenfeld',\n",
       "  'room_area': 13.0,\n",
       "  'street': 'Ruhrstraße',\n",
       "  'title': '13qm Zimmer in schöner, heller Erdgeschosswohnung - Flatshare in Hamburg-Bahrenfeld',\n",
       "  'total_area': 0,\n",
       "  'total_occupancy': 2,\n",
       "  'url': 'https://www.wg-gesucht.de/en/wg-zimmer-in-Hamburg-Bahrenfeld.5313515.html?mf=1',\n",
       "  'utilities_rent': 'n.a.'},\n",
       " {'base_rent': '490',\n",
       "  'deposit': '1000',\n",
       "  'existing_equip_rent': '150',\n",
       "  'house_number': 9,\n",
       "  'misc_rent': '10',\n",
       "  'num_females_current': 0,\n",
       "  'num_males_current': 2,\n",
       "  'postcode': 20251,\n",
       "  'region': 'Weg Eppendorf',\n",
       "  'room_area': 14.0,\n",
       "  'street': 'Itzehoer',\n",
       "  'title': '++++ Hoheluft, zentrumsnah, 14 qm Zimmer ++++ - Wohngemeinschaften in Hamburg-Eppendorf',\n",
       "  'total_area': 70.0,\n",
       "  'total_occupancy': 3,\n",
       "  'url': 'https://www.wg-gesucht.de/en/wg-zimmer-in-Hamburg-Eppendorf.6066386.html?mf=1',\n",
       "  'utilities_rent': '0'},\n",
       " {'base_rent': '420',\n",
       "  'deposit': '840',\n",
       "  'existing_equip_rent': '0',\n",
       "  'house_number': 254,\n",
       "  'misc_rent': '30',\n",
       "  'num_females_current': 1,\n",
       "  'num_males_current': 0,\n",
       "  'postcode': 22769,\n",
       "  'region': 'Straße Eimsbüttel',\n",
       "  'room_area': 13.0,\n",
       "  'street': 'Kieler',\n",
       "  'title': 'Mitbewohner für WG-Gründung in schöner 2 1/2 Zimmer-Wohnung gesucht - Wohngemeinschaften Hamburg-Eimsbüttel',\n",
       "  'total_area': 60.0,\n",
       "  'total_occupancy': 2,\n",
       "  'url': 'https://www.wg-gesucht.de/en/wg-zimmer-in-Hamburg-Eimsbuettel.6065185.html?mf=1',\n",
       "  'utilities_rent': 'n.a.'},\n",
       " {'base_rent': '392',\n",
       "  'deposit': '1175',\n",
       "  'existing_equip_rent': '0',\n",
       "  'house_number': 172,\n",
       "  'misc_rent': '20',\n",
       "  'num_females_current': 2,\n",
       "  'num_males_current': 0,\n",
       "  'postcode': 22765,\n",
       "  'region': 'Straße Ottensen',\n",
       "  'room_area': 18.0,\n",
       "  'street': 'Bahrenfelder',\n",
       "  'title': 'schönes Zimmer in zentraler Lage in Ottensen  - Zimmer Hamburg-Ottensen',\n",
       "  'total_area': 86.0,\n",
       "  'total_occupancy': 3,\n",
       "  'url': 'https://www.wg-gesucht.de/en/wg-zimmer-in-Hamburg-Ottensen.5986295.html?mf=1',\n",
       "  'utilities_rent': '145'}]"
      ]
     },
     "execution_count": 325,
     "metadata": {},
     "output_type": "execute_result"
    }
   ],
   "source": [
    "dicts"
   ]
  },
  {
   "cell_type": "code",
   "execution_count": 714,
   "metadata": {
    "collapsed": true
   },
   "outputs": [],
   "source": [
    "df = pd.DataFrame(dicts)"
   ]
  },
  {
   "cell_type": "code",
   "execution_count": 744,
   "metadata": {},
   "outputs": [],
   "source": [
    "for col in ['base_rent', 'deposit', 'existing_equipment_fee', 'miscellaneous_costs', 'utilities']:\n",
    "    df[col] = pd.to_numeric(df[col], errors='coerce')\n",
    "    df[col] = df[col].fillna(value=0)\n",
    "df['total_rent'] = df['base_rent'] + df['utilities'] + df['miscellaneous_costs']"
   ]
  },
  {
   "cell_type": "code",
   "execution_count": 745,
   "metadata": {},
   "outputs": [
    {
     "name": "stdout",
     "output_type": "stream",
     "text": [
      "<class 'pandas.core.frame.DataFrame'>\n",
      "RangeIndex: 16 entries, 0 to 15\n",
      "Data columns (total 17 columns):\n",
      "base_rent                 16 non-null int64\n",
      "deposit                   16 non-null int64\n",
      "existing_equipment_fee    16 non-null float64\n",
      "house_number              16 non-null int64\n",
      "miscellaneous_costs       16 non-null float64\n",
      "num_females_current       16 non-null int64\n",
      "num_males_current         16 non-null int64\n",
      "postcode                  16 non-null int64\n",
      "region                    16 non-null object\n",
      "room_area                 16 non-null float64\n",
      "street                    16 non-null object\n",
      "title                     16 non-null object\n",
      "total_area                16 non-null float64\n",
      "total_occupancy           16 non-null int64\n",
      "url                       16 non-null object\n",
      "utilities                 16 non-null float64\n",
      "total_rent                16 non-null float64\n",
      "dtypes: float64(6), int64(7), object(4)\n",
      "memory usage: 2.2+ KB\n"
     ]
    }
   ],
   "source": [
    "df.info()"
   ]
  },
  {
   "cell_type": "code",
   "execution_count": 746,
   "metadata": {},
   "outputs": [
    {
     "data": {
      "text/html": [
       "<div>\n",
       "<table border=\"1\" class=\"dataframe\">\n",
       "  <thead>\n",
       "    <tr style=\"text-align: right;\">\n",
       "      <th></th>\n",
       "      <th>base_rent</th>\n",
       "      <th>deposit</th>\n",
       "      <th>existing_equipment_fee</th>\n",
       "      <th>house_number</th>\n",
       "      <th>miscellaneous_costs</th>\n",
       "      <th>num_females_current</th>\n",
       "      <th>num_males_current</th>\n",
       "      <th>postcode</th>\n",
       "      <th>region</th>\n",
       "      <th>room_area</th>\n",
       "      <th>street</th>\n",
       "      <th>title</th>\n",
       "      <th>total_area</th>\n",
       "      <th>total_occupancy</th>\n",
       "      <th>url</th>\n",
       "      <th>utilities</th>\n",
       "      <th>total_rent</th>\n",
       "    </tr>\n",
       "  </thead>\n",
       "  <tbody>\n",
       "    <tr>\n",
       "      <th>0</th>\n",
       "      <td>450</td>\n",
       "      <td>500</td>\n",
       "      <td>0.0</td>\n",
       "      <td>21</td>\n",
       "      <td>0.0</td>\n",
       "      <td>0</td>\n",
       "      <td>2</td>\n",
       "      <td>20144</td>\n",
       "      <td>Eimsbüttel</td>\n",
       "      <td>16.0</td>\n",
       "      <td>Kielortallee</td>\n",
       "      <td>16 qm Zimmer in bester Lage  - Flatshare in Ha...</td>\n",
       "      <td>78.0</td>\n",
       "      <td>3</td>\n",
       "      <td>http://www.wg-gesucht.de/en/wg-zimmer-in-Hambu...</td>\n",
       "      <td>50.0</td>\n",
       "      <td>500.0</td>\n",
       "    </tr>\n",
       "    <tr>\n",
       "      <th>1</th>\n",
       "      <td>410</td>\n",
       "      <td>1300</td>\n",
       "      <td>0.0</td>\n",
       "      <td>-1</td>\n",
       "      <td>25.0</td>\n",
       "      <td>0</td>\n",
       "      <td>2</td>\n",
       "      <td>20259</td>\n",
       "      <td>Eimsbüttel</td>\n",
       "      <td>12.0</td>\n",
       "      <td>Osterstraße</td>\n",
       "      <td>12qm Zimmer in 3er WG - Zimmer in Hamburg-Eims...</td>\n",
       "      <td>0.0</td>\n",
       "      <td>3</td>\n",
       "      <td>https://www.wg-gesucht.de/en/wg-zimmer-in-Hamb...</td>\n",
       "      <td>80.0</td>\n",
       "      <td>515.0</td>\n",
       "    </tr>\n",
       "    <tr>\n",
       "      <th>2</th>\n",
       "      <td>400</td>\n",
       "      <td>700</td>\n",
       "      <td>0.0</td>\n",
       "      <td>-1</td>\n",
       "      <td>0.0</td>\n",
       "      <td>1</td>\n",
       "      <td>0</td>\n",
       "      <td>22761</td>\n",
       "      <td>Bahrenfeld</td>\n",
       "      <td>13.0</td>\n",
       "      <td>Ruhrstraße</td>\n",
       "      <td>13qm Zimmer in schöner, heller Erdgeschosswohn...</td>\n",
       "      <td>0.0</td>\n",
       "      <td>2</td>\n",
       "      <td>https://www.wg-gesucht.de/en/wg-zimmer-in-Hamb...</td>\n",
       "      <td>0.0</td>\n",
       "      <td>400.0</td>\n",
       "    </tr>\n",
       "    <tr>\n",
       "      <th>3</th>\n",
       "      <td>490</td>\n",
       "      <td>1000</td>\n",
       "      <td>150.0</td>\n",
       "      <td>9</td>\n",
       "      <td>10.0</td>\n",
       "      <td>0</td>\n",
       "      <td>2</td>\n",
       "      <td>20251</td>\n",
       "      <td>Eppendorf</td>\n",
       "      <td>14.0</td>\n",
       "      <td>Itzehoer Weg</td>\n",
       "      <td>++++ Hoheluft, zentrumsnah, 14 qm Zimmer ++++ ...</td>\n",
       "      <td>70.0</td>\n",
       "      <td>3</td>\n",
       "      <td>https://www.wg-gesucht.de/en/wg-zimmer-in-Hamb...</td>\n",
       "      <td>0.0</td>\n",
       "      <td>500.0</td>\n",
       "    </tr>\n",
       "    <tr>\n",
       "      <th>4</th>\n",
       "      <td>420</td>\n",
       "      <td>840</td>\n",
       "      <td>0.0</td>\n",
       "      <td>254</td>\n",
       "      <td>30.0</td>\n",
       "      <td>1</td>\n",
       "      <td>0</td>\n",
       "      <td>22769</td>\n",
       "      <td>Eimsbüttel</td>\n",
       "      <td>13.0</td>\n",
       "      <td>Kieler Straße</td>\n",
       "      <td>Mitbewohner für WG-Gründung in schöner 2 1/2 Z...</td>\n",
       "      <td>60.0</td>\n",
       "      <td>2</td>\n",
       "      <td>https://www.wg-gesucht.de/en/wg-zimmer-in-Hamb...</td>\n",
       "      <td>0.0</td>\n",
       "      <td>450.0</td>\n",
       "    </tr>\n",
       "  </tbody>\n",
       "</table>\n",
       "</div>"
      ],
      "text/plain": [
       "   base_rent  deposit  existing_equipment_fee  house_number  \\\n",
       "0        450      500                     0.0            21   \n",
       "1        410     1300                     0.0            -1   \n",
       "2        400      700                     0.0            -1   \n",
       "3        490     1000                   150.0             9   \n",
       "4        420      840                     0.0           254   \n",
       "\n",
       "   miscellaneous_costs  num_females_current  num_males_current  postcode  \\\n",
       "0                  0.0                    0                  2     20144   \n",
       "1                 25.0                    0                  2     20259   \n",
       "2                  0.0                    1                  0     22761   \n",
       "3                 10.0                    0                  2     20251   \n",
       "4                 30.0                    1                  0     22769   \n",
       "\n",
       "       region  room_area         street  \\\n",
       "0  Eimsbüttel       16.0   Kielortallee   \n",
       "1  Eimsbüttel       12.0    Osterstraße   \n",
       "2  Bahrenfeld       13.0     Ruhrstraße   \n",
       "3   Eppendorf       14.0   Itzehoer Weg   \n",
       "4  Eimsbüttel       13.0  Kieler Straße   \n",
       "\n",
       "                                               title  total_area  \\\n",
       "0  16 qm Zimmer in bester Lage  - Flatshare in Ha...        78.0   \n",
       "1  12qm Zimmer in 3er WG - Zimmer in Hamburg-Eims...         0.0   \n",
       "2  13qm Zimmer in schöner, heller Erdgeschosswohn...         0.0   \n",
       "3  ++++ Hoheluft, zentrumsnah, 14 qm Zimmer ++++ ...        70.0   \n",
       "4  Mitbewohner für WG-Gründung in schöner 2 1/2 Z...        60.0   \n",
       "\n",
       "   total_occupancy                                                url  \\\n",
       "0                3  http://www.wg-gesucht.de/en/wg-zimmer-in-Hambu...   \n",
       "1                3  https://www.wg-gesucht.de/en/wg-zimmer-in-Hamb...   \n",
       "2                2  https://www.wg-gesucht.de/en/wg-zimmer-in-Hamb...   \n",
       "3                3  https://www.wg-gesucht.de/en/wg-zimmer-in-Hamb...   \n",
       "4                2  https://www.wg-gesucht.de/en/wg-zimmer-in-Hamb...   \n",
       "\n",
       "   utilities  total_rent  \n",
       "0       50.0       500.0  \n",
       "1       80.0       515.0  \n",
       "2        0.0       400.0  \n",
       "3        0.0       500.0  \n",
       "4        0.0       450.0  "
      ]
     },
     "execution_count": 746,
     "metadata": {},
     "output_type": "execute_result"
    }
   ],
   "source": [
    "df.head()"
   ]
  },
  {
   "cell_type": "code",
   "execution_count": 742,
   "metadata": {},
   "outputs": [
    {
     "data": {
      "text/plain": [
       "['Eimsbüttel',\n",
       " 'Bahrenfeld',\n",
       " 'Eppendorf',\n",
       " 'Ottensen',\n",
       " 'Altona-Nord',\n",
       " 'Stellingen',\n",
       " 'Harvestehude',\n",
       " 'Altona-Altstadt']"
      ]
     },
     "execution_count": 742,
     "metadata": {},
     "output_type": "execute_result"
    }
   ],
   "source": [
    "df.region.unique().tolist()"
   ]
  },
  {
   "cell_type": "code",
   "execution_count": 758,
   "metadata": {},
   "outputs": [
    {
     "data": {
      "image/png": "[encoded data removed]",
      "text/plain": [
       "<matplotlib.figure.Figure at 0x11578cf28>"
      ]
     },
     "metadata": {
      "image/png": {
       "height": 416,
       "width": 422
      }
     },
     "output_type": "display_data"
    }
   ],
   "source": [
    "sns.jointplot(x='room_area', y='base_rent', data=df, \n",
    "              space=0, marginal_kws={'bins': 10});"
   ]
  },
  {
   "cell_type": "code",
   "execution_count": 757,
   "metadata": {},
   "outputs": [
    {
     "data": {
      "image/png": "[encoded data removed]",
      "text/plain": [
       "<matplotlib.figure.Figure at 0x1146ed518>"
      ]
     },
     "metadata": {
      "image/png": {
       "height": 417,
       "width": 422
      }
     },
     "output_type": "display_data"
    }
   ],
   "source": [
    "sns.jointplot(x='total_area', y='total_rent', data=df.query('total_area>0'), \n",
    "              space=0, marginal_kws={'bins': 10});"
   ]
  },
  {
   "cell_type": "code",
   "execution_count": 756,
   "metadata": {},
   "outputs": [
    {
     "data": {
      "image/png": "[encoded data removed]",
      "text/plain": [
       "<matplotlib.figure.Figure at 0x1146ed390>"
      ]
     },
     "metadata": {
      "image/png": {
       "height": 416,
       "width": 422
      }
     },
     "output_type": "display_data"
    }
   ],
   "source": [
    "sns.jointplot(x='room_area', y='total_rent', data=df, \n",
    "              space=0, marginal_kws={'bins': 10});"
   ]
  },
  {
   "cell_type": "code",
   "execution_count": 755,
   "metadata": {},
   "outputs": [
    {
     "data": {
      "image/png": "[encoded data removed]",
      "text/plain": [
       "<matplotlib.figure.Figure at 0x114bc8630>"
      ]
     },
     "metadata": {
      "image/png": {
       "height": 416,
       "width": 414
      }
     },
     "output_type": "display_data"
    }
   ],
   "source": [
    "sns.jointplot(x='room_area', y='total_area', data=df.query('total_area>0'), \n",
    "              space=0, marginal_kws={'bins': 10});"
   ]
  },
  {
   "cell_type": "code",
   "execution_count": 733,
   "metadata": {},
   "outputs": [
    {
     "data": {
      "text/plain": [
       "<matplotlib.colorbar.Colorbar at 0x113a5c860>"
      ]
     },
     "execution_count": 733,
     "metadata": {},
     "output_type": "execute_result"
    },
    {
     "data": {
      "image/png": "[encoded data removed]",
      "text/plain": [
       "<matplotlib.figure.Figure at 0x1144202e8>"
      ]
     },
     "metadata": {
      "image/png": {
       "height": 364,
       "width": 451
      }
     },
     "output_type": "display_data"
    }
   ],
   "source": [
    "plt.hist2d(df.num_males_current, df.num_females_current,\n",
    "           bins=[range(5), range(5)],\n",
    "           norm=colors.BoundaryNorm(boundaries=range(5), ncolors=256), cmap='Blues');\n",
    "plt.colorbar()"
   ]
  },
  {
   "cell_type": "code",
   "execution_count": null,
   "metadata": {
    "collapsed": true
   },
   "outputs": [],
   "source": []
  }
 ],
 "metadata": {
  "kernelspec": {
   "display_name": "Python 3",
   "language": "python",
   "name": "python3"
  },
  "language_info": {
   "codemirror_mode": {
    "name": "ipython",
    "version": 3
   },
   "file_extension": ".py",
   "mimetype": "text/x-python",
   "name": "python",
   "nbconvert_exporter": "python",
   "pygments_lexer": "ipython3",
   "version": "3.6.1"
  }
 },
 "nbformat": 4,
 "nbformat_minor": 2
}
